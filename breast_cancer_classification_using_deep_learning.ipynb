{
  "cells": [
    {
      "cell_type": "markdown",
      "metadata": {
        "id": "view-in-github",
        "colab_type": "text"
      },
      "source": [
        "<a href=\"https://colab.research.google.com/github/Balwant464/breast-cancer-classification-using-deep-learning./blob/main/breast_cancer_classification_using_deep_learning.ipynb\" target=\"_parent\"><img src=\"https://colab.research.google.com/assets/colab-badge.svg\" alt=\"Open In Colab\"/></a>"
      ]
    },
    {
      "cell_type": "code",
      "execution_count": null,
      "id": "14e55852",
      "metadata": {
        "_cell_guid": "b1076dfc-b9ad-4769-8c92-a6c4dae69d19",
        "_uuid": "8f2839f25d086af736a60e9eeb907d3b93b6e0e5",
        "execution": {
          "iopub.execute_input": "2023-10-21T20:50:02.125325Z",
          "iopub.status.busy": "2023-10-21T20:50:02.124974Z",
          "iopub.status.idle": "2023-10-21T20:50:02.816313Z",
          "shell.execute_reply": "2023-10-21T20:50:02.815418Z"
        },
        "papermill": {
          "duration": 0.702373,
          "end_time": "2023-10-21T20:50:02.818617",
          "exception": false,
          "start_time": "2023-10-21T20:50:02.116244",
          "status": "completed"
        },
        "tags": [],
        "id": "14e55852",
        "outputId": "df84aa8a-0a98-4d6a-f6e8-b93172581bc8"
      },
      "outputs": [
        {
          "name": "stdout",
          "output_type": "stream",
          "text": [
            "/kaggle/input/breast-cancer/breast-cancer-wisconsin-data_data.csv\n"
          ]
        }
      ],
      "source": [
        "# This Python 3 environment comes with many helpful analytics libraries installed\n",
        "# It is defined by the kaggle/python Docker image: https://github.com/kaggle/docker-python\n",
        "# For example, here's several helpful packages to load\n",
        "\n",
        "import numpy as np # linear algebra\n",
        "import pandas as pd # data processing, CSV file I/O (e.g. pd.read_csv)\n",
        "\n",
        "# Input data files are available in the read-only \"../input/\" directory\n",
        "# For example, running this (by clicking run or pressing Shift+Enter) will list all files under the input directory\n",
        "\n",
        "import os\n",
        "for dirname, _, filenames in os.walk('/kaggle/input'):\n",
        "    for filename in filenames:\n",
        "        print(os.path.join(dirname, filename))\n",
        "\n",
        "# You can write up to 20GB to the current directory (/kaggle/working/) that gets preserved as output when you create a version using \"Save & Run All\"\n",
        "# You can also write temporary files to /kaggle/temp/, but they won't be saved outside of the current session"
      ]
    },
    {
      "cell_type": "code",
      "execution_count": null,
      "id": "cb1a4bc4",
      "metadata": {
        "execution": {
          "iopub.execute_input": "2023-10-21T20:50:02.834452Z",
          "iopub.status.busy": "2023-10-21T20:50:02.834041Z",
          "iopub.status.idle": "2023-10-21T20:50:03.874456Z",
          "shell.execute_reply": "2023-10-21T20:50:03.873697Z"
        },
        "papermill": {
          "duration": 1.050682,
          "end_time": "2023-10-21T20:50:03.876799",
          "exception": false,
          "start_time": "2023-10-21T20:50:02.826117",
          "status": "completed"
        },
        "tags": [],
        "id": "cb1a4bc4",
        "outputId": "8869faf2-c828-4c2d-b584-7bdd9c7e262f"
      },
      "outputs": [
        {
          "name": "stderr",
          "output_type": "stream",
          "text": [
            "/opt/conda/lib/python3.10/site-packages/scipy/__init__.py:146: UserWarning: A NumPy version >=1.16.5 and <1.23.0 is required for this version of SciPy (detected version 1.23.5\n",
            "  warnings.warn(f\"A NumPy version >={np_minversion} and <{np_maxversion}\"\n"
          ]
        }
      ],
      "source": [
        "#Importing Required Python Libraries\n",
        "import pandas as pd\n",
        "import numpy as np\n",
        "import matplotlib.pyplot as plt\n",
        "import seaborn as sns"
      ]
    },
    {
      "cell_type": "code",
      "execution_count": null,
      "id": "6ec6b99a",
      "metadata": {
        "execution": {
          "iopub.execute_input": "2023-10-21T20:50:03.892531Z",
          "iopub.status.busy": "2023-10-21T20:50:03.892221Z",
          "iopub.status.idle": "2023-10-21T20:50:03.922387Z",
          "shell.execute_reply": "2023-10-21T20:50:03.921647Z"
        },
        "papermill": {
          "duration": 0.040628,
          "end_time": "2023-10-21T20:50:03.924599",
          "exception": false,
          "start_time": "2023-10-21T20:50:03.883971",
          "status": "completed"
        },
        "tags": [],
        "id": "6ec6b99a"
      },
      "outputs": [],
      "source": [
        "#Importing Required Dataset\n",
        "data=pd.read_csv(\"/kaggle/input/breast-cancer/breast-cancer-wisconsin-data_data.csv\")"
      ]
    },
    {
      "cell_type": "code",
      "execution_count": null,
      "id": "491a67c6",
      "metadata": {
        "execution": {
          "iopub.execute_input": "2023-10-21T20:50:03.940439Z",
          "iopub.status.busy": "2023-10-21T20:50:03.939727Z",
          "iopub.status.idle": "2023-10-21T20:50:11.172301Z",
          "shell.execute_reply": "2023-10-21T20:50:11.171427Z"
        },
        "papermill": {
          "duration": 7.242895,
          "end_time": "2023-10-21T20:50:11.174725",
          "exception": false,
          "start_time": "2023-10-21T20:50:03.931830",
          "status": "completed"
        },
        "tags": [],
        "id": "491a67c6"
      },
      "outputs": [],
      "source": [
        "#Importing Required Libraries\n",
        "import tensorflow as tf\n",
        "from tensorflow import keras\n",
        "from keras import Sequential\n",
        "from keras.layers import Dense,Flatten"
      ]
    },
    {
      "cell_type": "code",
      "execution_count": null,
      "id": "4003ae40",
      "metadata": {
        "execution": {
          "iopub.execute_input": "2023-10-21T20:50:11.190778Z",
          "iopub.status.busy": "2023-10-21T20:50:11.190205Z",
          "iopub.status.idle": "2023-10-21T20:50:11.217769Z",
          "shell.execute_reply": "2023-10-21T20:50:11.216539Z"
        },
        "papermill": {
          "duration": 0.037658,
          "end_time": "2023-10-21T20:50:11.219775",
          "exception": false,
          "start_time": "2023-10-21T20:50:11.182117",
          "status": "completed"
        },
        "tags": [],
        "id": "4003ae40",
        "outputId": "6612b1fc-d441-49b0-d028-de5e54425548"
      },
      "outputs": [
        {
          "name": "stdout",
          "output_type": "stream",
          "text": [
            "<class 'pandas.core.frame.DataFrame'>\n",
            "RangeIndex: 569 entries, 0 to 568\n",
            "Data columns (total 33 columns):\n",
            " #   Column                   Non-Null Count  Dtype  \n",
            "---  ------                   --------------  -----  \n",
            " 0   id                       569 non-null    int64  \n",
            " 1   diagnosis                569 non-null    object \n",
            " 2   radius_mean              569 non-null    float64\n",
            " 3   texture_mean             569 non-null    float64\n",
            " 4   perimeter_mean           569 non-null    float64\n",
            " 5   area_mean                569 non-null    float64\n",
            " 6   smoothness_mean          569 non-null    float64\n",
            " 7   compactness_mean         569 non-null    float64\n",
            " 8   concavity_mean           569 non-null    float64\n",
            " 9   concave points_mean      569 non-null    float64\n",
            " 10  symmetry_mean            569 non-null    float64\n",
            " 11  fractal_dimension_mean   569 non-null    float64\n",
            " 12  radius_se                569 non-null    float64\n",
            " 13  texture_se               569 non-null    float64\n",
            " 14  perimeter_se             569 non-null    float64\n",
            " 15  area_se                  569 non-null    float64\n",
            " 16  smoothness_se            569 non-null    float64\n",
            " 17  compactness_se           569 non-null    float64\n",
            " 18  concavity_se             569 non-null    float64\n",
            " 19  concave points_se        569 non-null    float64\n",
            " 20  symmetry_se              569 non-null    float64\n",
            " 21  fractal_dimension_se     569 non-null    float64\n",
            " 22  radius_worst             569 non-null    float64\n",
            " 23  texture_worst            569 non-null    float64\n",
            " 24  perimeter_worst          569 non-null    float64\n",
            " 25  area_worst               569 non-null    float64\n",
            " 26  smoothness_worst         569 non-null    float64\n",
            " 27  compactness_worst        569 non-null    float64\n",
            " 28  concavity_worst          569 non-null    float64\n",
            " 29  concave points_worst     569 non-null    float64\n",
            " 30  symmetry_worst           569 non-null    float64\n",
            " 31  fractal_dimension_worst  569 non-null    float64\n",
            " 32  Unnamed: 32              0 non-null      float64\n",
            "dtypes: float64(31), int64(1), object(1)\n",
            "memory usage: 146.8+ KB\n"
          ]
        }
      ],
      "source": [
        "#Info About Data\n",
        "data.info()"
      ]
    },
    {
      "cell_type": "code",
      "execution_count": null,
      "id": "3608e27e",
      "metadata": {
        "execution": {
          "iopub.execute_input": "2023-10-21T20:50:11.235227Z",
          "iopub.status.busy": "2023-10-21T20:50:11.234917Z",
          "iopub.status.idle": "2023-10-21T20:50:11.241418Z",
          "shell.execute_reply": "2023-10-21T20:50:11.240531Z"
        },
        "papermill": {
          "duration": 0.016285,
          "end_time": "2023-10-21T20:50:11.243405",
          "exception": false,
          "start_time": "2023-10-21T20:50:11.227120",
          "status": "completed"
        },
        "tags": [],
        "id": "3608e27e",
        "outputId": "a93166c0-738e-4c94-a2b7-afdd44a799b5"
      },
      "outputs": [
        {
          "data": {
            "text/plain": [
              "(569, 33)"
            ]
          },
          "execution_count": 6,
          "metadata": {},
          "output_type": "execute_result"
        }
      ],
      "source": [
        "#Shape\n",
        "data.shape"
      ]
    },
    {
      "cell_type": "code",
      "execution_count": null,
      "id": "8bca887a",
      "metadata": {
        "execution": {
          "iopub.execute_input": "2023-10-21T20:50:11.258734Z",
          "iopub.status.busy": "2023-10-21T20:50:11.258425Z",
          "iopub.status.idle": "2023-10-21T20:50:11.264139Z",
          "shell.execute_reply": "2023-10-21T20:50:11.263291Z"
        },
        "papermill": {
          "duration": 0.01549,
          "end_time": "2023-10-21T20:50:11.266056",
          "exception": false,
          "start_time": "2023-10-21T20:50:11.250566",
          "status": "completed"
        },
        "tags": [],
        "id": "8bca887a",
        "outputId": "1fd2aab0-62ec-4850-e279-6e62f6fe3b13"
      },
      "outputs": [
        {
          "data": {
            "text/plain": [
              "Index(['id', 'diagnosis', 'radius_mean', 'texture_mean', 'perimeter_mean',\n",
              "       'area_mean', 'smoothness_mean', 'compactness_mean', 'concavity_mean',\n",
              "       'concave points_mean', 'symmetry_mean', 'fractal_dimension_mean',\n",
              "       'radius_se', 'texture_se', 'perimeter_se', 'area_se', 'smoothness_se',\n",
              "       'compactness_se', 'concavity_se', 'concave points_se', 'symmetry_se',\n",
              "       'fractal_dimension_se', 'radius_worst', 'texture_worst',\n",
              "       'perimeter_worst', 'area_worst', 'smoothness_worst',\n",
              "       'compactness_worst', 'concavity_worst', 'concave points_worst',\n",
              "       'symmetry_worst', 'fractal_dimension_worst', 'Unnamed: 32'],\n",
              "      dtype='object')"
            ]
          },
          "execution_count": 7,
          "metadata": {},
          "output_type": "execute_result"
        }
      ],
      "source": [
        "#Columns\n",
        "data.columns"
      ]
    },
    {
      "cell_type": "code",
      "execution_count": null,
      "id": "fb314067",
      "metadata": {
        "execution": {
          "iopub.execute_input": "2023-10-21T20:50:11.281679Z",
          "iopub.status.busy": "2023-10-21T20:50:11.281376Z",
          "iopub.status.idle": "2023-10-21T20:50:11.312198Z",
          "shell.execute_reply": "2023-10-21T20:50:11.311357Z"
        },
        "papermill": {
          "duration": 0.040909,
          "end_time": "2023-10-21T20:50:11.314182",
          "exception": false,
          "start_time": "2023-10-21T20:50:11.273273",
          "status": "completed"
        },
        "tags": [],
        "id": "fb314067",
        "outputId": "f3148b89-fdc1-4b12-dc38-692f9290ae9f"
      },
      "outputs": [
        {
          "data": {
            "text/html": [
              "<div>\n",
              "<style scoped>\n",
              "    .dataframe tbody tr th:only-of-type {\n",
              "        vertical-align: middle;\n",
              "    }\n",
              "\n",
              "    .dataframe tbody tr th {\n",
              "        vertical-align: top;\n",
              "    }\n",
              "\n",
              "    .dataframe thead th {\n",
              "        text-align: right;\n",
              "    }\n",
              "</style>\n",
              "<table border=\"1\" class=\"dataframe\">\n",
              "  <thead>\n",
              "    <tr style=\"text-align: right;\">\n",
              "      <th></th>\n",
              "      <th>id</th>\n",
              "      <th>diagnosis</th>\n",
              "      <th>radius_mean</th>\n",
              "      <th>texture_mean</th>\n",
              "      <th>perimeter_mean</th>\n",
              "      <th>area_mean</th>\n",
              "      <th>smoothness_mean</th>\n",
              "      <th>compactness_mean</th>\n",
              "      <th>concavity_mean</th>\n",
              "      <th>concave points_mean</th>\n",
              "      <th>...</th>\n",
              "      <th>texture_worst</th>\n",
              "      <th>perimeter_worst</th>\n",
              "      <th>area_worst</th>\n",
              "      <th>smoothness_worst</th>\n",
              "      <th>compactness_worst</th>\n",
              "      <th>concavity_worst</th>\n",
              "      <th>concave points_worst</th>\n",
              "      <th>symmetry_worst</th>\n",
              "      <th>fractal_dimension_worst</th>\n",
              "      <th>Unnamed: 32</th>\n",
              "    </tr>\n",
              "  </thead>\n",
              "  <tbody>\n",
              "    <tr>\n",
              "      <th>0</th>\n",
              "      <td>842302</td>\n",
              "      <td>M</td>\n",
              "      <td>17.99</td>\n",
              "      <td>10.38</td>\n",
              "      <td>122.80</td>\n",
              "      <td>1001.0</td>\n",
              "      <td>0.11840</td>\n",
              "      <td>0.27760</td>\n",
              "      <td>0.3001</td>\n",
              "      <td>0.14710</td>\n",
              "      <td>...</td>\n",
              "      <td>17.33</td>\n",
              "      <td>184.60</td>\n",
              "      <td>2019.0</td>\n",
              "      <td>0.1622</td>\n",
              "      <td>0.6656</td>\n",
              "      <td>0.7119</td>\n",
              "      <td>0.2654</td>\n",
              "      <td>0.4601</td>\n",
              "      <td>0.11890</td>\n",
              "      <td>NaN</td>\n",
              "    </tr>\n",
              "    <tr>\n",
              "      <th>1</th>\n",
              "      <td>842517</td>\n",
              "      <td>M</td>\n",
              "      <td>20.57</td>\n",
              "      <td>17.77</td>\n",
              "      <td>132.90</td>\n",
              "      <td>1326.0</td>\n",
              "      <td>0.08474</td>\n",
              "      <td>0.07864</td>\n",
              "      <td>0.0869</td>\n",
              "      <td>0.07017</td>\n",
              "      <td>...</td>\n",
              "      <td>23.41</td>\n",
              "      <td>158.80</td>\n",
              "      <td>1956.0</td>\n",
              "      <td>0.1238</td>\n",
              "      <td>0.1866</td>\n",
              "      <td>0.2416</td>\n",
              "      <td>0.1860</td>\n",
              "      <td>0.2750</td>\n",
              "      <td>0.08902</td>\n",
              "      <td>NaN</td>\n",
              "    </tr>\n",
              "    <tr>\n",
              "      <th>2</th>\n",
              "      <td>84300903</td>\n",
              "      <td>M</td>\n",
              "      <td>19.69</td>\n",
              "      <td>21.25</td>\n",
              "      <td>130.00</td>\n",
              "      <td>1203.0</td>\n",
              "      <td>0.10960</td>\n",
              "      <td>0.15990</td>\n",
              "      <td>0.1974</td>\n",
              "      <td>0.12790</td>\n",
              "      <td>...</td>\n",
              "      <td>25.53</td>\n",
              "      <td>152.50</td>\n",
              "      <td>1709.0</td>\n",
              "      <td>0.1444</td>\n",
              "      <td>0.4245</td>\n",
              "      <td>0.4504</td>\n",
              "      <td>0.2430</td>\n",
              "      <td>0.3613</td>\n",
              "      <td>0.08758</td>\n",
              "      <td>NaN</td>\n",
              "    </tr>\n",
              "    <tr>\n",
              "      <th>3</th>\n",
              "      <td>84348301</td>\n",
              "      <td>M</td>\n",
              "      <td>11.42</td>\n",
              "      <td>20.38</td>\n",
              "      <td>77.58</td>\n",
              "      <td>386.1</td>\n",
              "      <td>0.14250</td>\n",
              "      <td>0.28390</td>\n",
              "      <td>0.2414</td>\n",
              "      <td>0.10520</td>\n",
              "      <td>...</td>\n",
              "      <td>26.50</td>\n",
              "      <td>98.87</td>\n",
              "      <td>567.7</td>\n",
              "      <td>0.2098</td>\n",
              "      <td>0.8663</td>\n",
              "      <td>0.6869</td>\n",
              "      <td>0.2575</td>\n",
              "      <td>0.6638</td>\n",
              "      <td>0.17300</td>\n",
              "      <td>NaN</td>\n",
              "    </tr>\n",
              "    <tr>\n",
              "      <th>4</th>\n",
              "      <td>84358402</td>\n",
              "      <td>M</td>\n",
              "      <td>20.29</td>\n",
              "      <td>14.34</td>\n",
              "      <td>135.10</td>\n",
              "      <td>1297.0</td>\n",
              "      <td>0.10030</td>\n",
              "      <td>0.13280</td>\n",
              "      <td>0.1980</td>\n",
              "      <td>0.10430</td>\n",
              "      <td>...</td>\n",
              "      <td>16.67</td>\n",
              "      <td>152.20</td>\n",
              "      <td>1575.0</td>\n",
              "      <td>0.1374</td>\n",
              "      <td>0.2050</td>\n",
              "      <td>0.4000</td>\n",
              "      <td>0.1625</td>\n",
              "      <td>0.2364</td>\n",
              "      <td>0.07678</td>\n",
              "      <td>NaN</td>\n",
              "    </tr>\n",
              "  </tbody>\n",
              "</table>\n",
              "<p>5 rows × 33 columns</p>\n",
              "</div>"
            ],
            "text/plain": [
              "         id diagnosis  radius_mean  texture_mean  perimeter_mean  area_mean  \\\n",
              "0    842302         M        17.99         10.38          122.80     1001.0   \n",
              "1    842517         M        20.57         17.77          132.90     1326.0   \n",
              "2  84300903         M        19.69         21.25          130.00     1203.0   \n",
              "3  84348301         M        11.42         20.38           77.58      386.1   \n",
              "4  84358402         M        20.29         14.34          135.10     1297.0   \n",
              "\n",
              "   smoothness_mean  compactness_mean  concavity_mean  concave points_mean  \\\n",
              "0          0.11840           0.27760          0.3001              0.14710   \n",
              "1          0.08474           0.07864          0.0869              0.07017   \n",
              "2          0.10960           0.15990          0.1974              0.12790   \n",
              "3          0.14250           0.28390          0.2414              0.10520   \n",
              "4          0.10030           0.13280          0.1980              0.10430   \n",
              "\n",
              "   ...  texture_worst  perimeter_worst  area_worst  smoothness_worst  \\\n",
              "0  ...          17.33           184.60      2019.0            0.1622   \n",
              "1  ...          23.41           158.80      1956.0            0.1238   \n",
              "2  ...          25.53           152.50      1709.0            0.1444   \n",
              "3  ...          26.50            98.87       567.7            0.2098   \n",
              "4  ...          16.67           152.20      1575.0            0.1374   \n",
              "\n",
              "   compactness_worst  concavity_worst  concave points_worst  symmetry_worst  \\\n",
              "0             0.6656           0.7119                0.2654          0.4601   \n",
              "1             0.1866           0.2416                0.1860          0.2750   \n",
              "2             0.4245           0.4504                0.2430          0.3613   \n",
              "3             0.8663           0.6869                0.2575          0.6638   \n",
              "4             0.2050           0.4000                0.1625          0.2364   \n",
              "\n",
              "   fractal_dimension_worst  Unnamed: 32  \n",
              "0                  0.11890          NaN  \n",
              "1                  0.08902          NaN  \n",
              "2                  0.08758          NaN  \n",
              "3                  0.17300          NaN  \n",
              "4                  0.07678          NaN  \n",
              "\n",
              "[5 rows x 33 columns]"
            ]
          },
          "execution_count": 8,
          "metadata": {},
          "output_type": "execute_result"
        }
      ],
      "source": [
        "#Head\n",
        "data.head()"
      ]
    },
    {
      "cell_type": "code",
      "execution_count": null,
      "id": "1453a57e",
      "metadata": {
        "execution": {
          "iopub.execute_input": "2023-10-21T20:50:11.330382Z",
          "iopub.status.busy": "2023-10-21T20:50:11.330136Z",
          "iopub.status.idle": "2023-10-21T20:50:11.335449Z",
          "shell.execute_reply": "2023-10-21T20:50:11.334606Z"
        },
        "papermill": {
          "duration": 0.015593,
          "end_time": "2023-10-21T20:50:11.337350",
          "exception": false,
          "start_time": "2023-10-21T20:50:11.321757",
          "status": "completed"
        },
        "tags": [],
        "id": "1453a57e"
      },
      "outputs": [],
      "source": [
        "#Removing unnecessary columns\n",
        "data.drop(columns={'id','Unnamed: 32'},inplace=True)"
      ]
    },
    {
      "cell_type": "code",
      "execution_count": null,
      "id": "f5b432b1",
      "metadata": {
        "execution": {
          "iopub.execute_input": "2023-10-21T20:50:11.353625Z",
          "iopub.status.busy": "2023-10-21T20:50:11.353338Z",
          "iopub.status.idle": "2023-10-21T20:50:11.362370Z",
          "shell.execute_reply": "2023-10-21T20:50:11.361607Z"
        },
        "papermill": {
          "duration": 0.019107,
          "end_time": "2023-10-21T20:50:11.364205",
          "exception": false,
          "start_time": "2023-10-21T20:50:11.345098",
          "status": "completed"
        },
        "tags": [],
        "id": "f5b432b1",
        "outputId": "33e5e18e-33b5-4497-e8a5-ad97b977bac6"
      },
      "outputs": [
        {
          "data": {
            "text/plain": [
              "diagnosis                  0.0\n",
              "radius_mean                0.0\n",
              "texture_mean               0.0\n",
              "perimeter_mean             0.0\n",
              "area_mean                  0.0\n",
              "smoothness_mean            0.0\n",
              "compactness_mean           0.0\n",
              "concavity_mean             0.0\n",
              "concave points_mean        0.0\n",
              "symmetry_mean              0.0\n",
              "fractal_dimension_mean     0.0\n",
              "radius_se                  0.0\n",
              "texture_se                 0.0\n",
              "perimeter_se               0.0\n",
              "area_se                    0.0\n",
              "smoothness_se              0.0\n",
              "compactness_se             0.0\n",
              "concavity_se               0.0\n",
              "concave points_se          0.0\n",
              "symmetry_se                0.0\n",
              "fractal_dimension_se       0.0\n",
              "radius_worst               0.0\n",
              "texture_worst              0.0\n",
              "perimeter_worst            0.0\n",
              "area_worst                 0.0\n",
              "smoothness_worst           0.0\n",
              "compactness_worst          0.0\n",
              "concavity_worst            0.0\n",
              "concave points_worst       0.0\n",
              "symmetry_worst             0.0\n",
              "fractal_dimension_worst    0.0\n",
              "dtype: float64"
            ]
          },
          "execution_count": 10,
          "metadata": {},
          "output_type": "execute_result"
        }
      ],
      "source": [
        "#Finding Null Values\n",
        "data.isnull().mean()*100"
      ]
    },
    {
      "cell_type": "code",
      "execution_count": null,
      "id": "b8520cb4",
      "metadata": {
        "execution": {
          "iopub.execute_input": "2023-10-21T20:50:11.380804Z",
          "iopub.status.busy": "2023-10-21T20:50:11.380542Z",
          "iopub.status.idle": "2023-10-21T20:50:11.392783Z",
          "shell.execute_reply": "2023-10-21T20:50:11.391902Z"
        },
        "papermill": {
          "duration": 0.022727,
          "end_time": "2023-10-21T20:50:11.394600",
          "exception": false,
          "start_time": "2023-10-21T20:50:11.371873",
          "status": "completed"
        },
        "tags": [],
        "id": "b8520cb4",
        "outputId": "573c4582-b0de-43e8-8403-4f677e6534fa"
      },
      "outputs": [
        {
          "data": {
            "text/plain": [
              "0"
            ]
          },
          "execution_count": 11,
          "metadata": {},
          "output_type": "execute_result"
        }
      ],
      "source": [
        "#Finding Duplicates\n",
        "data.duplicated().sum()"
      ]
    },
    {
      "cell_type": "code",
      "execution_count": null,
      "id": "fae939f5",
      "metadata": {
        "execution": {
          "iopub.execute_input": "2023-10-21T20:50:11.411420Z",
          "iopub.status.busy": "2023-10-21T20:50:11.411127Z",
          "iopub.status.idle": "2023-10-21T20:50:11.517719Z",
          "shell.execute_reply": "2023-10-21T20:50:11.516901Z"
        },
        "papermill": {
          "duration": 0.117212,
          "end_time": "2023-10-21T20:50:11.519761",
          "exception": false,
          "start_time": "2023-10-21T20:50:11.402549",
          "status": "completed"
        },
        "tags": [],
        "id": "fae939f5",
        "outputId": "fa3865f6-6592-4e6b-82a8-5a58352b8e95"
      },
      "outputs": [
        {
          "data": {
            "text/plain": [
              "array(['B', 'M'], dtype=object)"
            ]
          },
          "execution_count": 12,
          "metadata": {},
          "output_type": "execute_result"
        }
      ],
      "source": [
        "#Feature Encoding\n",
        "from sklearn.preprocessing import LabelEncoder\n",
        "encoder=LabelEncoder()\n",
        "data['diagnosis']=encoder.fit_transform(data['diagnosis'])\n",
        "encoder.classes_"
      ]
    },
    {
      "cell_type": "code",
      "execution_count": null,
      "id": "acd3862c",
      "metadata": {
        "execution": {
          "iopub.execute_input": "2023-10-21T20:50:11.537210Z",
          "iopub.status.busy": "2023-10-21T20:50:11.536915Z",
          "iopub.status.idle": "2023-10-21T20:50:11.540718Z",
          "shell.execute_reply": "2023-10-21T20:50:11.539941Z"
        },
        "papermill": {
          "duration": 0.014983,
          "end_time": "2023-10-21T20:50:11.542904",
          "exception": false,
          "start_time": "2023-10-21T20:50:11.527921",
          "status": "completed"
        },
        "tags": [],
        "id": "acd3862c"
      },
      "outputs": [],
      "source": [
        "#Feature Scaling\n",
        "from sklearn.preprocessing import StandardScaler"
      ]
    },
    {
      "cell_type": "code",
      "execution_count": null,
      "id": "3996ae28",
      "metadata": {
        "execution": {
          "iopub.execute_input": "2023-10-21T20:50:11.560437Z",
          "iopub.status.busy": "2023-10-21T20:50:11.560150Z",
          "iopub.status.idle": "2023-10-21T20:50:11.783224Z",
          "shell.execute_reply": "2023-10-21T20:50:11.782430Z"
        },
        "papermill": {
          "duration": 0.234437,
          "end_time": "2023-10-21T20:50:11.785251",
          "exception": false,
          "start_time": "2023-10-21T20:50:11.550814",
          "status": "completed"
        },
        "tags": [],
        "id": "3996ae28"
      },
      "outputs": [],
      "source": [
        "#radius_mean\n",
        "radius_mean_scaler=StandardScaler()\n",
        "data['radius_mean']=radius_mean_scaler.fit_transform(np.array(data['radius_mean']).reshape(len(data['radius_mean']),1))\n",
        "\n",
        "#texture_mean\n",
        "texture_mean_scaler=StandardScaler()\n",
        "data['texture_mean']=texture_mean_scaler.fit_transform(np.array(data['texture_mean']).reshape(len(data['texture_mean']),1))\n",
        "\n",
        "#perimeter_mean\n",
        "perimeter_mean_scaler=StandardScaler()\n",
        "data['perimeter_mean']=perimeter_mean_scaler.fit_transform(np.array(data['perimeter_mean']).reshape(len(data['perimeter_mean']),1))\n",
        "\n",
        "#area_mean\n",
        "area_mean_scaler=StandardScaler()\n",
        "data['area_mean']=area_mean_scaler.fit_transform(np.array(data['area_mean']).reshape(len(data['area_mean']),1))\n",
        "\n",
        "#smoothness_mean\n",
        "smoothness_mean_scaler=StandardScaler()\n",
        "data['smoothness_mean']=smoothness_mean_scaler.fit_transform(np.array(data['smoothness_mean']).reshape(len(data['smoothness_mean']),1))\n",
        "\n",
        "#compactness_mean\n",
        "compactness_mean_scaler=StandardScaler()\n",
        "data['compactness_mean']=compactness_mean_scaler.fit_transform(np.array(data['compactness_mean']).reshape(len(data['compactness_mean']),1))\n",
        "\n",
        "#concavity_mean\n",
        "concavity_mean_scaler=StandardScaler()\n",
        "data['concavity_mean']=concavity_mean_scaler.fit_transform(np.array(data['concavity_mean']).reshape(len(data['concavity_mean']),1))\n",
        "\n",
        "#concave points_mean\n",
        "concave_points_mean_scaler=StandardScaler()\n",
        "data['concave points_mean']=concave_points_mean_scaler.fit_transform(np.array(data['concave points_mean']).reshape(len(data['concave points_mean']),1))\n",
        "\n",
        "#symmetry_mean\n",
        "symmetry_mean_scaler=StandardScaler()\n",
        "data['symmetry_mean']=symmetry_mean_scaler.fit_transform(np.array(data['symmetry_mean']).reshape(len(data['symmetry_mean']),1))\n",
        "\n",
        "#fractal_dimension_mean\n",
        "fractal_dimension_mean_scaler=StandardScaler()\n",
        "data['fractal_dimension_mean']=fractal_dimension_mean_scaler.fit_transform(np.array(data['fractal_dimension_mean']).reshape(len(data['fractal_dimension_mean']),1))\n",
        "\n",
        "#radius_se\n",
        "radius_se_scaler=StandardScaler()\n",
        "data['radius_se']=radius_se_scaler.fit_transform(np.array(data['radius_se']).reshape(len(data['radius_se']),1))\n",
        "\n",
        "#texture_se\n",
        "texture_se_scaler=StandardScaler()\n",
        "data['texture_se']=texture_se_scaler.fit_transform(np.array(data['texture_se']).reshape(len(data['texture_se']),1))\n",
        "\n",
        "#perimeter_se\n",
        "perimeter_se_scaler=StandardScaler()\n",
        "data['perimeter_se']=perimeter_se_scaler.fit_transform(np.array(data['perimeter_se']).reshape(len(data['perimeter_se']),1))\n",
        "\n",
        "#area_se\n",
        "area_se_scaler=StandardScaler()\n",
        "data['area_se']=area_se_scaler.fit_transform(np.array(data['area_se']).reshape(len(data['area_se']),1))\n",
        "\n",
        "#smoothness_se\n",
        "smoothness_se_scaler=StandardScaler()\n",
        "data['smoothness_se']=smoothness_se_scaler.fit_transform(np.array(data['smoothness_se']).reshape(len(data['smoothness_se']),1))\n",
        "\n",
        "#compactness_se\n",
        "compactness_se_scaler=StandardScaler()\n",
        "data['compactness_se']=compactness_se_scaler.fit_transform(np.array(data['compactness_se']).reshape(len(data['compactness_se']),1))\n",
        "\n",
        "#concavity_se\n",
        "concavity_se_scaler=StandardScaler()\n",
        "data['concavity_se']=concavity_se_scaler.fit_transform(np.array(data['concavity_se']).reshape(len(data['concavity_se']),1))\n",
        "\n",
        "#concave points_se\n",
        "concave_points_se_scaler=StandardScaler()\n",
        "data['concave points_se']=concave_points_se_scaler.fit_transform(np.array(data['concave points_se']).reshape(len(data['concave points_se']),1))\n",
        "\n",
        "#symmetry_se\n",
        "symmetry_se_scaler=StandardScaler()\n",
        "data['symmetry_se']=symmetry_se_scaler.fit_transform(np.array(data['symmetry_se']).reshape(len(data['symmetry_se']),1))\n",
        "\n",
        "#fractal_dimension_se\n",
        "fractal_dimension_se_scaler=StandardScaler()\n",
        "data['fractal_dimension_se']=fractal_dimension_se_scaler.fit_transform(np.array(data['fractal_dimension_se']).reshape(len(data['fractal_dimension_se']),1))\n",
        "\n",
        "#radius_worst\n",
        "radius_worst_scaler=StandardScaler()\n",
        "data['radius_worst']=radius_worst_scaler.fit_transform(np.array(data['radius_worst']).reshape(len(data['radius_worst']),1))\n",
        "\n",
        "#texture_worst\n",
        "texture_worst_scaler=StandardScaler()\n",
        "data['texture_worst']=texture_worst_scaler.fit_transform(np.array(data['texture_worst']).reshape(len(data['texture_worst']),1))\n",
        "\n",
        "#perimeter_worst\n",
        "perimeter_worst_scaler=StandardScaler()\n",
        "data['perimeter_worst']=perimeter_worst_scaler.fit_transform(np.array(data['perimeter_worst']).reshape(len(data['perimeter_worst']),1))\n",
        "\n",
        "#area_worst\n",
        "area_worst_scaler=StandardScaler()\n",
        "data['area_worst']=area_worst_scaler.fit_transform(np.array(data['area_worst']).reshape(len(data['area_worst']),1))\n",
        "\n",
        "#smoothness_worst\n",
        "smoothness_worst_scaler=StandardScaler()\n",
        "data['smoothness_worst']=smoothness_worst_scaler.fit_transform(np.array(data['smoothness_worst']).reshape(len(data['smoothness_worst']),1))\n",
        "\n",
        "#compactness_worst\n",
        "compactness_worst_scaler=StandardScaler()\n",
        "data['compactness_worst']=compactness_worst_scaler.fit_transform(np.array(data['compactness_worst']).reshape(len(data['compactness_worst']),1))\n",
        "\n",
        "#concavity_worst\n",
        "concavity_worst_scaler=StandardScaler()\n",
        "data['concavity_worst']=concavity_worst_scaler.fit_transform(np.array(data['concavity_worst']).reshape(len(data['concavity_worst']),1))\n",
        "\n",
        "#concave points_worst\n",
        "concave_points_worst_scaler=StandardScaler()\n",
        "data['concave points_worst']=concave_points_worst_scaler.fit_transform(np.array(data['concave points_worst']).reshape(len(data['concave points_worst']),1))\n",
        "\n",
        "#symmetry_worst\n",
        "symmetry_worst_scaler=StandardScaler()\n",
        "data['symmetry_worst']=symmetry_worst_scaler.fit_transform(np.array(data['symmetry_worst']).reshape(len(data['symmetry_worst']),1))\n",
        "\n",
        "#fractal_dimension_worst\n",
        "fractal_dimension_worst_scaler=StandardScaler()\n",
        "data['fractal_dimension_worst']=fractal_dimension_worst_scaler.fit_transform(np.array(data['fractal_dimension_worst']).reshape(len(data['fractal_dimension_worst']),1))"
      ]
    },
    {
      "cell_type": "code",
      "execution_count": null,
      "id": "c56764ac",
      "metadata": {
        "execution": {
          "iopub.execute_input": "2023-10-21T20:50:11.802781Z",
          "iopub.status.busy": "2023-10-21T20:50:11.802461Z",
          "iopub.status.idle": "2023-10-21T20:50:11.828589Z",
          "shell.execute_reply": "2023-10-21T20:50:11.827737Z"
        },
        "papermill": {
          "duration": 0.037163,
          "end_time": "2023-10-21T20:50:11.830606",
          "exception": false,
          "start_time": "2023-10-21T20:50:11.793443",
          "status": "completed"
        },
        "tags": [],
        "id": "c56764ac",
        "outputId": "fe1e1784-920b-48d3-b3be-5d1f42953ed0"
      },
      "outputs": [
        {
          "data": {
            "text/html": [
              "<div>\n",
              "<style scoped>\n",
              "    .dataframe tbody tr th:only-of-type {\n",
              "        vertical-align: middle;\n",
              "    }\n",
              "\n",
              "    .dataframe tbody tr th {\n",
              "        vertical-align: top;\n",
              "    }\n",
              "\n",
              "    .dataframe thead th {\n",
              "        text-align: right;\n",
              "    }\n",
              "</style>\n",
              "<table border=\"1\" class=\"dataframe\">\n",
              "  <thead>\n",
              "    <tr style=\"text-align: right;\">\n",
              "      <th></th>\n",
              "      <th>diagnosis</th>\n",
              "      <th>radius_mean</th>\n",
              "      <th>texture_mean</th>\n",
              "      <th>perimeter_mean</th>\n",
              "      <th>area_mean</th>\n",
              "      <th>smoothness_mean</th>\n",
              "      <th>compactness_mean</th>\n",
              "      <th>concavity_mean</th>\n",
              "      <th>concave points_mean</th>\n",
              "      <th>symmetry_mean</th>\n",
              "      <th>...</th>\n",
              "      <th>radius_worst</th>\n",
              "      <th>texture_worst</th>\n",
              "      <th>perimeter_worst</th>\n",
              "      <th>area_worst</th>\n",
              "      <th>smoothness_worst</th>\n",
              "      <th>compactness_worst</th>\n",
              "      <th>concavity_worst</th>\n",
              "      <th>concave points_worst</th>\n",
              "      <th>symmetry_worst</th>\n",
              "      <th>fractal_dimension_worst</th>\n",
              "    </tr>\n",
              "  </thead>\n",
              "  <tbody>\n",
              "    <tr>\n",
              "      <th>394</th>\n",
              "      <td>0</td>\n",
              "      <td>-0.575780</td>\n",
              "      <td>-0.365268</td>\n",
              "      <td>-0.572504</td>\n",
              "      <td>-0.593533</td>\n",
              "      <td>0.465402</td>\n",
              "      <td>-0.128131</td>\n",
              "      <td>-0.514369</td>\n",
              "      <td>-0.403912</td>\n",
              "      <td>0.457760</td>\n",
              "      <td>...</td>\n",
              "      <td>-0.561026</td>\n",
              "      <td>0.019993</td>\n",
              "      <td>-0.563882</td>\n",
              "      <td>-0.564436</td>\n",
              "      <td>0.474804</td>\n",
              "      <td>-0.489605</td>\n",
              "      <td>-0.536788</td>\n",
              "      <td>-0.790964</td>\n",
              "      <td>0.239827</td>\n",
              "      <td>-0.727932</td>\n",
              "    </tr>\n",
              "    <tr>\n",
              "      <th>358</th>\n",
              "      <td>0</td>\n",
              "      <td>-1.490873</td>\n",
              "      <td>-0.884204</td>\n",
              "      <td>-1.451091</td>\n",
              "      <td>-1.177143</td>\n",
              "      <td>-0.955772</td>\n",
              "      <td>-0.518531</td>\n",
              "      <td>-0.522153</td>\n",
              "      <td>-0.647665</td>\n",
              "      <td>0.432204</td>\n",
              "      <td>...</td>\n",
              "      <td>-1.302174</td>\n",
              "      <td>-1.299041</td>\n",
              "      <td>-1.250743</td>\n",
              "      <td>-1.017099</td>\n",
              "      <td>-1.353152</td>\n",
              "      <td>-0.823579</td>\n",
              "      <td>-0.852896</td>\n",
              "      <td>-1.019972</td>\n",
              "      <td>-0.755108</td>\n",
              "      <td>-0.533977</td>\n",
              "    </tr>\n",
              "    <tr>\n",
              "      <th>315</th>\n",
              "      <td>0</td>\n",
              "      <td>-0.465014</td>\n",
              "      <td>-0.567723</td>\n",
              "      <td>-0.526371</td>\n",
              "      <td>-0.492852</td>\n",
              "      <td>-0.800631</td>\n",
              "      <td>-1.250816</td>\n",
              "      <td>-1.058714</td>\n",
              "      <td>-1.096145</td>\n",
              "      <td>-2.178221</td>\n",
              "      <td>...</td>\n",
              "      <td>-0.606584</td>\n",
              "      <td>-0.971725</td>\n",
              "      <td>-0.678558</td>\n",
              "      <td>-0.591332</td>\n",
              "      <td>-0.963013</td>\n",
              "      <td>-1.302401</td>\n",
              "      <td>-1.212855</td>\n",
              "      <td>-1.321154</td>\n",
              "      <td>-1.591501</td>\n",
              "      <td>-1.230554</td>\n",
              "    </tr>\n",
              "    <tr>\n",
              "      <th>391</th>\n",
              "      <td>0</td>\n",
              "      <td>-1.531771</td>\n",
              "      <td>-0.570050</td>\n",
              "      <td>-1.511641</td>\n",
              "      <td>-1.196199</td>\n",
              "      <td>0.536567</td>\n",
              "      <td>-0.569700</td>\n",
              "      <td>-1.114873</td>\n",
              "      <td>-1.261820</td>\n",
              "      <td>0.633006</td>\n",
              "      <td>...</td>\n",
              "      <td>-1.263036</td>\n",
              "      <td>-0.468538</td>\n",
              "      <td>-1.288274</td>\n",
              "      <td>-0.990730</td>\n",
              "      <td>0.597545</td>\n",
              "      <td>-0.784138</td>\n",
              "      <td>-1.305831</td>\n",
              "      <td>-1.745063</td>\n",
              "      <td>-0.737313</td>\n",
              "      <td>0.260686</td>\n",
              "    </tr>\n",
              "    <tr>\n",
              "      <th>190</th>\n",
              "      <td>1</td>\n",
              "      <td>0.026330</td>\n",
              "      <td>0.891349</td>\n",
              "      <td>0.098896</td>\n",
              "      <td>-0.127954</td>\n",
              "      <td>0.792763</td>\n",
              "      <td>2.595576</td>\n",
              "      <td>1.372267</td>\n",
              "      <td>0.445226</td>\n",
              "      <td>2.089732</td>\n",
              "      <td>...</td>\n",
              "      <td>-0.109586</td>\n",
              "      <td>1.873156</td>\n",
              "      <td>-0.025652</td>\n",
              "      <td>-0.207756</td>\n",
              "      <td>0.917547</td>\n",
              "      <td>4.315794</td>\n",
              "      <td>2.766307</td>\n",
              "      <td>0.953090</td>\n",
              "      <td>3.664668</td>\n",
              "      <td>3.361201</td>\n",
              "    </tr>\n",
              "  </tbody>\n",
              "</table>\n",
              "<p>5 rows × 31 columns</p>\n",
              "</div>"
            ],
            "text/plain": [
              "     diagnosis  radius_mean  texture_mean  perimeter_mean  area_mean  \\\n",
              "394          0    -0.575780     -0.365268       -0.572504  -0.593533   \n",
              "358          0    -1.490873     -0.884204       -1.451091  -1.177143   \n",
              "315          0    -0.465014     -0.567723       -0.526371  -0.492852   \n",
              "391          0    -1.531771     -0.570050       -1.511641  -1.196199   \n",
              "190          1     0.026330      0.891349        0.098896  -0.127954   \n",
              "\n",
              "     smoothness_mean  compactness_mean  concavity_mean  concave points_mean  \\\n",
              "394         0.465402         -0.128131       -0.514369            -0.403912   \n",
              "358        -0.955772         -0.518531       -0.522153            -0.647665   \n",
              "315        -0.800631         -1.250816       -1.058714            -1.096145   \n",
              "391         0.536567         -0.569700       -1.114873            -1.261820   \n",
              "190         0.792763          2.595576        1.372267             0.445226   \n",
              "\n",
              "     symmetry_mean  ...  radius_worst  texture_worst  perimeter_worst  \\\n",
              "394       0.457760  ...     -0.561026       0.019993        -0.563882   \n",
              "358       0.432204  ...     -1.302174      -1.299041        -1.250743   \n",
              "315      -2.178221  ...     -0.606584      -0.971725        -0.678558   \n",
              "391       0.633006  ...     -1.263036      -0.468538        -1.288274   \n",
              "190       2.089732  ...     -0.109586       1.873156        -0.025652   \n",
              "\n",
              "     area_worst  smoothness_worst  compactness_worst  concavity_worst  \\\n",
              "394   -0.564436          0.474804          -0.489605        -0.536788   \n",
              "358   -1.017099         -1.353152          -0.823579        -0.852896   \n",
              "315   -0.591332         -0.963013          -1.302401        -1.212855   \n",
              "391   -0.990730          0.597545          -0.784138        -1.305831   \n",
              "190   -0.207756          0.917547           4.315794         2.766307   \n",
              "\n",
              "     concave points_worst  symmetry_worst  fractal_dimension_worst  \n",
              "394             -0.790964        0.239827                -0.727932  \n",
              "358             -1.019972       -0.755108                -0.533977  \n",
              "315             -1.321154       -1.591501                -1.230554  \n",
              "391             -1.745063       -0.737313                 0.260686  \n",
              "190              0.953090        3.664668                 3.361201  \n",
              "\n",
              "[5 rows x 31 columns]"
            ]
          },
          "execution_count": 15,
          "metadata": {},
          "output_type": "execute_result"
        }
      ],
      "source": [
        "#After Scaling\n",
        "data.sample(5)"
      ]
    },
    {
      "cell_type": "code",
      "execution_count": null,
      "id": "d6b5e66f",
      "metadata": {
        "execution": {
          "iopub.execute_input": "2023-10-21T20:50:11.851771Z",
          "iopub.status.busy": "2023-10-21T20:50:11.851444Z",
          "iopub.status.idle": "2023-10-21T20:50:11.857273Z",
          "shell.execute_reply": "2023-10-21T20:50:11.856422Z"
        },
        "papermill": {
          "duration": 0.017518,
          "end_time": "2023-10-21T20:50:11.859255",
          "exception": false,
          "start_time": "2023-10-21T20:50:11.841737",
          "status": "completed"
        },
        "tags": [],
        "id": "d6b5e66f"
      },
      "outputs": [],
      "source": [
        "#Feature and Target\n",
        "Feature=data.drop(columns={'diagnosis'})\n",
        "Target=data['diagnosis']"
      ]
    },
    {
      "cell_type": "code",
      "execution_count": null,
      "id": "48cece77",
      "metadata": {
        "execution": {
          "iopub.execute_input": "2023-10-21T20:50:11.879236Z",
          "iopub.status.busy": "2023-10-21T20:50:11.878960Z",
          "iopub.status.idle": "2023-10-21T20:50:11.968628Z",
          "shell.execute_reply": "2023-10-21T20:50:11.967633Z"
        },
        "papermill": {
          "duration": 0.102432,
          "end_time": "2023-10-21T20:50:11.970965",
          "exception": false,
          "start_time": "2023-10-21T20:50:11.868533",
          "status": "completed"
        },
        "tags": [],
        "id": "48cece77"
      },
      "outputs": [],
      "source": [
        "#Train_Test_Split\n",
        "from sklearn.model_selection import train_test_split as tts\n",
        "f_train,f_test,t_train,t_test=tts(Feature,Target,test_size=0.4)"
      ]
    },
    {
      "cell_type": "code",
      "execution_count": null,
      "id": "1f7f3eae",
      "metadata": {
        "execution": {
          "iopub.execute_input": "2023-10-21T20:50:11.989489Z",
          "iopub.status.busy": "2023-10-21T20:50:11.989175Z",
          "iopub.status.idle": "2023-10-21T20:50:12.016090Z",
          "shell.execute_reply": "2023-10-21T20:50:12.015104Z"
        },
        "papermill": {
          "duration": 0.038082,
          "end_time": "2023-10-21T20:50:12.018050",
          "exception": false,
          "start_time": "2023-10-21T20:50:11.979968",
          "status": "completed"
        },
        "tags": [],
        "id": "1f7f3eae",
        "outputId": "1f5b39b8-119b-4d49-fa80-c6c3978cb7e8"
      },
      "outputs": [
        {
          "data": {
            "text/html": [
              "<div>\n",
              "<style scoped>\n",
              "    .dataframe tbody tr th:only-of-type {\n",
              "        vertical-align: middle;\n",
              "    }\n",
              "\n",
              "    .dataframe tbody tr th {\n",
              "        vertical-align: top;\n",
              "    }\n",
              "\n",
              "    .dataframe thead th {\n",
              "        text-align: right;\n",
              "    }\n",
              "</style>\n",
              "<table border=\"1\" class=\"dataframe\">\n",
              "  <thead>\n",
              "    <tr style=\"text-align: right;\">\n",
              "      <th></th>\n",
              "      <th>radius_mean</th>\n",
              "      <th>texture_mean</th>\n",
              "      <th>perimeter_mean</th>\n",
              "      <th>area_mean</th>\n",
              "      <th>smoothness_mean</th>\n",
              "      <th>compactness_mean</th>\n",
              "      <th>concavity_mean</th>\n",
              "      <th>concave points_mean</th>\n",
              "      <th>symmetry_mean</th>\n",
              "      <th>fractal_dimension_mean</th>\n",
              "      <th>...</th>\n",
              "      <th>radius_worst</th>\n",
              "      <th>texture_worst</th>\n",
              "      <th>perimeter_worst</th>\n",
              "      <th>area_worst</th>\n",
              "      <th>smoothness_worst</th>\n",
              "      <th>compactness_worst</th>\n",
              "      <th>concavity_worst</th>\n",
              "      <th>concave points_worst</th>\n",
              "      <th>symmetry_worst</th>\n",
              "      <th>fractal_dimension_worst</th>\n",
              "    </tr>\n",
              "  </thead>\n",
              "  <tbody>\n",
              "    <tr>\n",
              "      <th>294</th>\n",
              "      <td>-0.399691</td>\n",
              "      <td>-1.282132</td>\n",
              "      <td>-0.419688</td>\n",
              "      <td>-0.462989</td>\n",
              "      <td>0.022041</td>\n",
              "      <td>-0.386818</td>\n",
              "      <td>-0.953165</td>\n",
              "      <td>-0.765543</td>\n",
              "      <td>-0.633872</td>\n",
              "      <td>-0.254830</td>\n",
              "      <td>...</td>\n",
              "      <td>-0.573451</td>\n",
              "      <td>-1.334867</td>\n",
              "      <td>-0.557627</td>\n",
              "      <td>-0.574632</td>\n",
              "      <td>-0.112597</td>\n",
              "      <td>-0.681083</td>\n",
              "      <td>-1.054776</td>\n",
              "      <td>-0.779240</td>\n",
              "      <td>-0.860264</td>\n",
              "      <td>-0.816043</td>\n",
              "    </tr>\n",
              "    <tr>\n",
              "      <th>248</th>\n",
              "      <td>-0.987600</td>\n",
              "      <td>1.380033</td>\n",
              "      <td>-0.986877</td>\n",
              "      <td>-0.875668</td>\n",
              "      <td>0.014925</td>\n",
              "      <td>-0.606466</td>\n",
              "      <td>-0.816190</td>\n",
              "      <td>-0.845247</td>\n",
              "      <td>0.311723</td>\n",
              "      <td>0.069801</td>\n",
              "      <td>...</td>\n",
              "      <td>-0.832304</td>\n",
              "      <td>1.549097</td>\n",
              "      <td>-0.872165</td>\n",
              "      <td>-0.746907</td>\n",
              "      <td>0.768505</td>\n",
              "      <td>-0.728158</td>\n",
              "      <td>-0.766109</td>\n",
              "      <td>-0.810759</td>\n",
              "      <td>0.822228</td>\n",
              "      <td>-0.137199</td>\n",
              "    </tr>\n",
              "    <tr>\n",
              "      <th>257</th>\n",
              "      <td>0.338746</td>\n",
              "      <td>-0.469986</td>\n",
              "      <td>0.462606</td>\n",
              "      <td>0.166127</td>\n",
              "      <td>2.643065</td>\n",
              "      <td>2.351102</td>\n",
              "      <td>1.958584</td>\n",
              "      <td>1.941793</td>\n",
              "      <td>2.140845</td>\n",
              "      <td>1.865906</td>\n",
              "      <td>...</td>\n",
              "      <td>0.302508</td>\n",
              "      <td>-0.491336</td>\n",
              "      <td>0.373478</td>\n",
              "      <td>0.084761</td>\n",
              "      <td>1.934540</td>\n",
              "      <td>1.247056</td>\n",
              "      <td>0.818993</td>\n",
              "      <td>1.648946</td>\n",
              "      <td>0.577943</td>\n",
              "      <td>1.948098</td>\n",
              "    </tr>\n",
              "    <tr>\n",
              "      <th>394</th>\n",
              "      <td>-0.575780</td>\n",
              "      <td>-0.365268</td>\n",
              "      <td>-0.572504</td>\n",
              "      <td>-0.593533</td>\n",
              "      <td>0.465402</td>\n",
              "      <td>-0.128131</td>\n",
              "      <td>-0.514369</td>\n",
              "      <td>-0.403912</td>\n",
              "      <td>0.457760</td>\n",
              "      <td>-0.168356</td>\n",
              "      <td>...</td>\n",
              "      <td>-0.561026</td>\n",
              "      <td>0.019993</td>\n",
              "      <td>-0.563882</td>\n",
              "      <td>-0.564436</td>\n",
              "      <td>0.474804</td>\n",
              "      <td>-0.489605</td>\n",
              "      <td>-0.536788</td>\n",
              "      <td>-0.790964</td>\n",
              "      <td>0.239827</td>\n",
              "      <td>-0.727932</td>\n",
              "    </tr>\n",
              "    <tr>\n",
              "      <th>128</th>\n",
              "      <td>0.276263</td>\n",
              "      <td>-0.674768</td>\n",
              "      <td>0.313497</td>\n",
              "      <td>0.055775</td>\n",
              "      <td>1.326504</td>\n",
              "      <td>1.447116</td>\n",
              "      <td>0.313883</td>\n",
              "      <td>0.939439</td>\n",
              "      <td>0.691421</td>\n",
              "      <td>0.265431</td>\n",
              "      <td>...</td>\n",
              "      <td>-0.032965</td>\n",
              "      <td>-1.196450</td>\n",
              "      <td>-0.040545</td>\n",
              "      <td>-0.207404</td>\n",
              "      <td>0.273159</td>\n",
              "      <td>0.216510</td>\n",
              "      <td>-0.365516</td>\n",
              "      <td>0.421682</td>\n",
              "      <td>-0.502735</td>\n",
              "      <td>-0.341130</td>\n",
              "    </tr>\n",
              "  </tbody>\n",
              "</table>\n",
              "<p>5 rows × 30 columns</p>\n",
              "</div>"
            ],
            "text/plain": [
              "     radius_mean  texture_mean  perimeter_mean  area_mean  smoothness_mean  \\\n",
              "294    -0.399691     -1.282132       -0.419688  -0.462989         0.022041   \n",
              "248    -0.987600      1.380033       -0.986877  -0.875668         0.014925   \n",
              "257     0.338746     -0.469986        0.462606   0.166127         2.643065   \n",
              "394    -0.575780     -0.365268       -0.572504  -0.593533         0.465402   \n",
              "128     0.276263     -0.674768        0.313497   0.055775         1.326504   \n",
              "\n",
              "     compactness_mean  concavity_mean  concave points_mean  symmetry_mean  \\\n",
              "294         -0.386818       -0.953165            -0.765543      -0.633872   \n",
              "248         -0.606466       -0.816190            -0.845247       0.311723   \n",
              "257          2.351102        1.958584             1.941793       2.140845   \n",
              "394         -0.128131       -0.514369            -0.403912       0.457760   \n",
              "128          1.447116        0.313883             0.939439       0.691421   \n",
              "\n",
              "     fractal_dimension_mean  ...  radius_worst  texture_worst  \\\n",
              "294               -0.254830  ...     -0.573451      -1.334867   \n",
              "248                0.069801  ...     -0.832304       1.549097   \n",
              "257                1.865906  ...      0.302508      -0.491336   \n",
              "394               -0.168356  ...     -0.561026       0.019993   \n",
              "128                0.265431  ...     -0.032965      -1.196450   \n",
              "\n",
              "     perimeter_worst  area_worst  smoothness_worst  compactness_worst  \\\n",
              "294        -0.557627   -0.574632         -0.112597          -0.681083   \n",
              "248        -0.872165   -0.746907          0.768505          -0.728158   \n",
              "257         0.373478    0.084761          1.934540           1.247056   \n",
              "394        -0.563882   -0.564436          0.474804          -0.489605   \n",
              "128        -0.040545   -0.207404          0.273159           0.216510   \n",
              "\n",
              "     concavity_worst  concave points_worst  symmetry_worst  \\\n",
              "294        -1.054776             -0.779240       -0.860264   \n",
              "248        -0.766109             -0.810759        0.822228   \n",
              "257         0.818993              1.648946        0.577943   \n",
              "394        -0.536788             -0.790964        0.239827   \n",
              "128        -0.365516              0.421682       -0.502735   \n",
              "\n",
              "     fractal_dimension_worst  \n",
              "294                -0.816043  \n",
              "248                -0.137199  \n",
              "257                 1.948098  \n",
              "394                -0.727932  \n",
              "128                -0.341130  \n",
              "\n",
              "[5 rows x 30 columns]"
            ]
          },
          "execution_count": 18,
          "metadata": {},
          "output_type": "execute_result"
        }
      ],
      "source": [
        "f_train.head()"
      ]
    },
    {
      "cell_type": "code",
      "execution_count": null,
      "id": "1a1951b0",
      "metadata": {
        "execution": {
          "iopub.execute_input": "2023-10-21T20:50:12.037370Z",
          "iopub.status.busy": "2023-10-21T20:50:12.037077Z",
          "iopub.status.idle": "2023-10-21T20:50:15.049106Z",
          "shell.execute_reply": "2023-10-21T20:50:15.048356Z"
        },
        "papermill": {
          "duration": 3.024468,
          "end_time": "2023-10-21T20:50:15.051435",
          "exception": false,
          "start_time": "2023-10-21T20:50:12.026967",
          "status": "completed"
        },
        "tags": [],
        "id": "1a1951b0"
      },
      "outputs": [],
      "source": [
        "#Model Building\n",
        "model=Sequential()\n",
        "model.add(Dense(3,activation='relu',input_dim=30))\n",
        "model.add(Dense(1,activation='sigmoid'))"
      ]
    },
    {
      "cell_type": "code",
      "execution_count": null,
      "id": "3186b620",
      "metadata": {
        "execution": {
          "iopub.execute_input": "2023-10-21T20:50:15.070577Z",
          "iopub.status.busy": "2023-10-21T20:50:15.070271Z",
          "iopub.status.idle": "2023-10-21T20:50:15.085848Z",
          "shell.execute_reply": "2023-10-21T20:50:15.084511Z"
        },
        "papermill": {
          "duration": 0.030259,
          "end_time": "2023-10-21T20:50:15.090981",
          "exception": false,
          "start_time": "2023-10-21T20:50:15.060722",
          "status": "completed"
        },
        "tags": [],
        "id": "3186b620",
        "outputId": "f84c501d-95aa-49f8-f4ab-4b94df01b7d6"
      },
      "outputs": [
        {
          "name": "stdout",
          "output_type": "stream",
          "text": [
            "Model: \"sequential\"\n",
            "_________________________________________________________________\n",
            " Layer (type)                Output Shape              Param #   \n",
            "=================================================================\n",
            " dense (Dense)               (None, 3)                 93        \n",
            "                                                                 \n",
            " dense_1 (Dense)             (None, 1)                 4         \n",
            "                                                                 \n",
            "=================================================================\n",
            "Total params: 97\n",
            "Trainable params: 97\n",
            "Non-trainable params: 0\n",
            "_________________________________________________________________\n"
          ]
        }
      ],
      "source": [
        "#Model summary\n",
        "model.summary()"
      ]
    },
    {
      "cell_type": "code",
      "execution_count": null,
      "id": "a8e27161",
      "metadata": {
        "execution": {
          "iopub.execute_input": "2023-10-21T20:50:15.112131Z",
          "iopub.status.busy": "2023-10-21T20:50:15.111625Z",
          "iopub.status.idle": "2023-10-21T20:50:15.127626Z",
          "shell.execute_reply": "2023-10-21T20:50:15.126744Z"
        },
        "papermill": {
          "duration": 0.028562,
          "end_time": "2023-10-21T20:50:15.129571",
          "exception": false,
          "start_time": "2023-10-21T20:50:15.101009",
          "status": "completed"
        },
        "tags": [],
        "id": "a8e27161"
      },
      "outputs": [],
      "source": [
        "#Model Compilation\n",
        "model.compile(optimizer='Adam',loss='binary_crossentropy',metrics=['Accuracy'])"
      ]
    },
    {
      "cell_type": "code",
      "execution_count": null,
      "id": "ac9ef076",
      "metadata": {
        "execution": {
          "iopub.execute_input": "2023-10-21T20:50:15.150882Z",
          "iopub.status.busy": "2023-10-21T20:50:15.150603Z",
          "iopub.status.idle": "2023-10-21T20:50:21.750692Z",
          "shell.execute_reply": "2023-10-21T20:50:21.749774Z"
        },
        "papermill": {
          "duration": 6.613103,
          "end_time": "2023-10-21T20:50:21.752798",
          "exception": false,
          "start_time": "2023-10-21T20:50:15.139695",
          "status": "completed"
        },
        "tags": [],
        "id": "ac9ef076",
        "outputId": "f16eb3a2-8f20-4cdb-d719-11111fd7600c"
      },
      "outputs": [
        {
          "name": "stdout",
          "output_type": "stream",
          "text": [
            "Epoch 1/30\n",
            "11/11 [==============================] - 4s 25ms/step - loss: 0.4758 - Accuracy: 0.8798 - val_loss: 0.4676 - val_Accuracy: 0.9035\n",
            "Epoch 2/30\n",
            "11/11 [==============================] - 0s 7ms/step - loss: 0.4423 - Accuracy: 0.8915 - val_loss: 0.4343 - val_Accuracy: 0.9123\n",
            "Epoch 3/30\n",
            "11/11 [==============================] - 0s 7ms/step - loss: 0.4112 - Accuracy: 0.9179 - val_loss: 0.4040 - val_Accuracy: 0.9254\n",
            "Epoch 4/30\n",
            "11/11 [==============================] - 0s 7ms/step - loss: 0.3830 - Accuracy: 0.9208 - val_loss: 0.3766 - val_Accuracy: 0.9430\n",
            "Epoch 5/30\n",
            "11/11 [==============================] - 0s 7ms/step - loss: 0.3578 - Accuracy: 0.9267 - val_loss: 0.3524 - val_Accuracy: 0.9430\n",
            "Epoch 6/30\n",
            "11/11 [==============================] - 0s 6ms/step - loss: 0.3346 - Accuracy: 0.9296 - val_loss: 0.3314 - val_Accuracy: 0.9474\n",
            "Epoch 7/30\n",
            "11/11 [==============================] - 0s 7ms/step - loss: 0.3144 - Accuracy: 0.9296 - val_loss: 0.3122 - val_Accuracy: 0.9474\n",
            "Epoch 8/30\n",
            "11/11 [==============================] - 0s 7ms/step - loss: 0.2955 - Accuracy: 0.9296 - val_loss: 0.2952 - val_Accuracy: 0.9474\n",
            "Epoch 9/30\n",
            "11/11 [==============================] - 0s 7ms/step - loss: 0.2788 - Accuracy: 0.9296 - val_loss: 0.2802 - val_Accuracy: 0.9430\n",
            "Epoch 10/30\n",
            "11/11 [==============================] - 0s 7ms/step - loss: 0.2641 - Accuracy: 0.9296 - val_loss: 0.2671 - val_Accuracy: 0.9430\n",
            "Epoch 11/30\n",
            "11/11 [==============================] - 0s 7ms/step - loss: 0.2513 - Accuracy: 0.9413 - val_loss: 0.2552 - val_Accuracy: 0.9430\n",
            "Epoch 12/30\n",
            "11/11 [==============================] - 0s 7ms/step - loss: 0.2395 - Accuracy: 0.9413 - val_loss: 0.2445 - val_Accuracy: 0.9430\n",
            "Epoch 13/30\n",
            "11/11 [==============================] - 0s 6ms/step - loss: 0.2293 - Accuracy: 0.9443 - val_loss: 0.2347 - val_Accuracy: 0.9474\n",
            "Epoch 14/30\n",
            "11/11 [==============================] - 0s 7ms/step - loss: 0.2194 - Accuracy: 0.9443 - val_loss: 0.2264 - val_Accuracy: 0.9474\n",
            "Epoch 15/30\n",
            "11/11 [==============================] - 0s 7ms/step - loss: 0.2108 - Accuracy: 0.9413 - val_loss: 0.2184 - val_Accuracy: 0.9474\n",
            "Epoch 16/30\n",
            "11/11 [==============================] - 0s 7ms/step - loss: 0.2027 - Accuracy: 0.9413 - val_loss: 0.2112 - val_Accuracy: 0.9474\n",
            "Epoch 17/30\n",
            "11/11 [==============================] - 0s 7ms/step - loss: 0.1949 - Accuracy: 0.9413 - val_loss: 0.2045 - val_Accuracy: 0.9474\n",
            "Epoch 18/30\n",
            "11/11 [==============================] - 0s 7ms/step - loss: 0.1878 - Accuracy: 0.9443 - val_loss: 0.1986 - val_Accuracy: 0.9474\n",
            "Epoch 19/30\n",
            "11/11 [==============================] - 0s 7ms/step - loss: 0.1812 - Accuracy: 0.9472 - val_loss: 0.1931 - val_Accuracy: 0.9474\n",
            "Epoch 20/30\n",
            "11/11 [==============================] - 0s 6ms/step - loss: 0.1748 - Accuracy: 0.9501 - val_loss: 0.1882 - val_Accuracy: 0.9474\n",
            "Epoch 21/30\n",
            "11/11 [==============================] - 0s 7ms/step - loss: 0.1690 - Accuracy: 0.9501 - val_loss: 0.1836 - val_Accuracy: 0.9474\n",
            "Epoch 22/30\n",
            "11/11 [==============================] - 0s 7ms/step - loss: 0.1635 - Accuracy: 0.9531 - val_loss: 0.1788 - val_Accuracy: 0.9474\n",
            "Epoch 23/30\n",
            "11/11 [==============================] - 0s 7ms/step - loss: 0.1583 - Accuracy: 0.9560 - val_loss: 0.1741 - val_Accuracy: 0.9518\n",
            "Epoch 24/30\n",
            "11/11 [==============================] - 0s 7ms/step - loss: 0.1533 - Accuracy: 0.9619 - val_loss: 0.1701 - val_Accuracy: 0.9561\n",
            "Epoch 25/30\n",
            "11/11 [==============================] - 0s 7ms/step - loss: 0.1485 - Accuracy: 0.9619 - val_loss: 0.1661 - val_Accuracy: 0.9518\n",
            "Epoch 26/30\n",
            "11/11 [==============================] - 0s 7ms/step - loss: 0.1443 - Accuracy: 0.9677 - val_loss: 0.1620 - val_Accuracy: 0.9561\n",
            "Epoch 27/30\n",
            "11/11 [==============================] - 0s 7ms/step - loss: 0.1399 - Accuracy: 0.9707 - val_loss: 0.1583 - val_Accuracy: 0.9561\n",
            "Epoch 28/30\n",
            "11/11 [==============================] - 0s 7ms/step - loss: 0.1362 - Accuracy: 0.9707 - val_loss: 0.1548 - val_Accuracy: 0.9561\n",
            "Epoch 29/30\n",
            "11/11 [==============================] - 0s 7ms/step - loss: 0.1325 - Accuracy: 0.9707 - val_loss: 0.1517 - val_Accuracy: 0.9561\n",
            "Epoch 30/30\n",
            "11/11 [==============================] - 0s 7ms/step - loss: 0.1290 - Accuracy: 0.9677 - val_loss: 0.1488 - val_Accuracy: 0.9561\n"
          ]
        }
      ],
      "source": [
        "#Model Training\n",
        "history=model.fit(f_train,t_train,validation_data=(f_test,t_test),epochs=30)"
      ]
    },
    {
      "cell_type": "code",
      "execution_count": null,
      "id": "f45ebb70",
      "metadata": {
        "execution": {
          "iopub.execute_input": "2023-10-21T20:50:21.787513Z",
          "iopub.status.busy": "2023-10-21T20:50:21.787195Z",
          "iopub.status.idle": "2023-10-21T20:50:21.888936Z",
          "shell.execute_reply": "2023-10-21T20:50:21.887861Z"
        },
        "papermill": {
          "duration": 0.12186,
          "end_time": "2023-10-21T20:50:21.891324",
          "exception": false,
          "start_time": "2023-10-21T20:50:21.769464",
          "status": "completed"
        },
        "tags": [],
        "id": "f45ebb70",
        "outputId": "95044308-6dc0-4f68-d9eb-588e4fdd8a73"
      },
      "outputs": [
        {
          "name": "stdout",
          "output_type": "stream",
          "text": [
            "8/8 [==============================] - 0s 3ms/step - loss: 0.1488 - Accuracy: 0.9561\n"
          ]
        },
        {
          "data": {
            "text/plain": [
              "95.61403393745422"
            ]
          },
          "execution_count": 23,
          "metadata": {},
          "output_type": "execute_result"
        }
      ],
      "source": [
        "#Model Evaluation\n",
        "model.evaluate(f_test,t_test)[1]*100"
      ]
    },
    {
      "cell_type": "code",
      "execution_count": null,
      "id": "8da07211",
      "metadata": {
        "papermill": {
          "duration": 0.018668,
          "end_time": "2023-10-21T20:50:21.930218",
          "exception": false,
          "start_time": "2023-10-21T20:50:21.911550",
          "status": "completed"
        },
        "tags": [],
        "id": "8da07211"
      },
      "outputs": [],
      "source": []
    },
    {
      "cell_type": "code",
      "execution_count": null,
      "id": "1aaed56b",
      "metadata": {
        "papermill": {
          "duration": 0.016387,
          "end_time": "2023-10-21T20:50:21.962924",
          "exception": false,
          "start_time": "2023-10-21T20:50:21.946537",
          "status": "completed"
        },
        "tags": [],
        "id": "1aaed56b"
      },
      "outputs": [],
      "source": []
    }
  ],
  "metadata": {
    "kernelspec": {
      "display_name": "Python 3",
      "language": "python",
      "name": "python3"
    },
    "language_info": {
      "codemirror_mode": {
        "name": "ipython",
        "version": 3
      },
      "file_extension": ".py",
      "mimetype": "text/x-python",
      "name": "python",
      "nbconvert_exporter": "python",
      "pygments_lexer": "ipython3",
      "version": "3.10.12"
    },
    "papermill": {
      "default_parameters": {},
      "duration": 26.527792,
      "end_time": "2023-10-21T20:50:25.233814",
      "environment_variables": {},
      "exception": null,
      "input_path": "__notebook__.ipynb",
      "output_path": "__notebook__.ipynb",
      "parameters": {},
      "start_time": "2023-10-21T20:49:58.706022",
      "version": "2.4.0"
    },
    "colab": {
      "provenance": [],
      "include_colab_link": true
    }
  },
  "nbformat": 4,
  "nbformat_minor": 5
}